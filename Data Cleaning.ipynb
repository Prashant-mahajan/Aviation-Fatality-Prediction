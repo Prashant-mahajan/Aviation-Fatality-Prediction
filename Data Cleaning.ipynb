{
 "cells": [
  {
   "cell_type": "code",
   "execution_count": 1,
   "metadata": {
    "collapsed": true
   },
   "outputs": [],
   "source": [
    "import numpy as np\n",
    "import pandas as pd\n",
    "import matplotlib.pyplot as plt\n",
    "import seaborn as sns\n",
    "\n",
    "import plotly.plotly as py\n",
    "import plotly.graph_objs as go"
   ]
  },
  {
   "cell_type": "code",
   "execution_count": 2,
   "metadata": {
    "collapsed": true
   },
   "outputs": [],
   "source": [
    "path = './AviationData.xlsx'"
   ]
  },
  {
   "cell_type": "code",
   "execution_count": 4,
   "metadata": {},
   "outputs": [
    {
     "name": "stdout",
     "output_type": "stream",
     "text": [
      "<class 'pandas.core.frame.DataFrame'>\n",
      "RangeIndex: 81366 entries, 0 to 81365\n",
      "Data columns (total 31 columns):\n",
      "Event Id                  81366 non-null object\n",
      "Type                      81366 non-null object\n",
      "Accident #                81366 non-null object\n",
      "Event Date                81366 non-null object\n",
      "Location                  81366 non-null object\n",
      "Country                   81366 non-null object\n",
      "Latitude                  81366 non-null object\n",
      "Longitude                 81366 non-null object\n",
      "Airport Code              81366 non-null object\n",
      "Airport Name              81366 non-null object\n",
      "Injury Severity           81366 non-null object\n",
      "Aircraft Damage           81366 non-null object\n",
      "Aircraft Category         81366 non-null object\n",
      "Registration Number       81366 non-null object\n",
      "Make                      81366 non-null object\n",
      "Model                     81366 non-null object\n",
      "Amateur Built             81366 non-null object\n",
      "Number of Engines         81366 non-null object\n",
      "Engine Type               81366 non-null object\n",
      "FAR Description           81366 non-null object\n",
      "Schedule                  81366 non-null object\n",
      "Purpose of Flight         81366 non-null object\n",
      "Air Carrier               81366 non-null object\n",
      "Total Fatal Injuries      81366 non-null object\n",
      "Total Serious Injuries    81366 non-null object\n",
      "Total Minor Injuries      81366 non-null object\n",
      "Total Uninjured           81366 non-null object\n",
      "Weather Condition         81366 non-null object\n",
      "Broad Phase of Flight     81366 non-null object\n",
      "Report Status             81366 non-null object\n",
      "Publication Date          81366 non-null object\n",
      "dtypes: object(31)\n",
      "memory usage: 19.2+ MB\n"
     ]
    }
   ],
   "source": [
    "aviation_data.info()"
   ]
  },
  {
   "cell_type": "code",
   "execution_count": 5,
   "metadata": {
    "collapsed": true
   },
   "outputs": [],
   "source": [
    "# corr = aviation_data.corr()\n",
    "# plt.figure(figsize=(30,20))\n",
    "# sns.heatmap(corr, linewidth=2, fmt=\".2f\", annot=True)"
   ]
  },
  {
   "cell_type": "code",
   "execution_count": 6,
   "metadata": {
    "collapsed": true
   },
   "outputs": [],
   "source": [
    "# for i in aviation_data:\n",
    "#     i['Type'] = i['Type'].map({'Accident':1, 'Incident':0}).astype(int)\n",
    "# aviation_data"
   ]
  },
  {
   "cell_type": "code",
   "execution_count": 7,
   "metadata": {
    "collapsed": true
   },
   "outputs": [],
   "source": [
    "# df_aviation = aviation_data.drop[:,'Country','Type','Aircraft Damage', 'Aircraft Category', 'Amateur Build','Number of Engines','Purpose of Flight','Report Status','Injury Severity']\n",
    "# df_aviation"
   ]
  },
  {
   "cell_type": "code",
   "execution_count": 9,
   "metadata": {},
   "outputs": [
    {
     "data": {
      "text/html": [
       "<div>\n",
       "<style scoped>\n",
       "    .dataframe tbody tr th:only-of-type {\n",
       "        vertical-align: middle;\n",
       "    }\n",
       "\n",
       "    .dataframe tbody tr th {\n",
       "        vertical-align: top;\n",
       "    }\n",
       "\n",
       "    .dataframe thead th {\n",
       "        text-align: right;\n",
       "    }\n",
       "</style>\n",
       "<table border=\"1\" class=\"dataframe\">\n",
       "  <thead>\n",
       "    <tr style=\"text-align: right;\">\n",
       "      <th></th>\n",
       "      <th>Country</th>\n",
       "      <th>Type</th>\n",
       "      <th>Aircraft Damage</th>\n",
       "      <th>Aircraft Category</th>\n",
       "      <th>Amateur Built</th>\n",
       "      <th>Number of Engines</th>\n",
       "      <th>Purpose of Flight</th>\n",
       "      <th>Report Status</th>\n",
       "      <th>Injury Severity</th>\n",
       "    </tr>\n",
       "  </thead>\n",
       "  <tbody>\n",
       "    <tr>\n",
       "      <th>0</th>\n",
       "      <td>United States</td>\n",
       "      <td>Accident</td>\n",
       "      <td>Substantial</td>\n",
       "      <td>Airplane</td>\n",
       "      <td>Yes</td>\n",
       "      <td>1</td>\n",
       "      <td>Personal</td>\n",
       "      <td>Preliminary</td>\n",
       "      <td>Non-Fatal</td>\n",
       "    </tr>\n",
       "    <tr>\n",
       "      <th>1</th>\n",
       "      <td>United States</td>\n",
       "      <td>Accident</td>\n",
       "      <td>Substantial</td>\n",
       "      <td>Airplane</td>\n",
       "      <td>No</td>\n",
       "      <td>1</td>\n",
       "      <td>Instructional</td>\n",
       "      <td>Preliminary</td>\n",
       "      <td>Non-Fatal</td>\n",
       "    </tr>\n",
       "    <tr>\n",
       "      <th>2</th>\n",
       "      <td>United States</td>\n",
       "      <td>Accident</td>\n",
       "      <td>Substantial</td>\n",
       "      <td>Airplane</td>\n",
       "      <td>Yes</td>\n",
       "      <td>1</td>\n",
       "      <td>Personal</td>\n",
       "      <td>Preliminary</td>\n",
       "      <td>Non-Fatal</td>\n",
       "    </tr>\n",
       "    <tr>\n",
       "      <th>3</th>\n",
       "      <td>United States</td>\n",
       "      <td>Accident</td>\n",
       "      <td>Substantial</td>\n",
       "      <td>Airplane</td>\n",
       "      <td>No</td>\n",
       "      <td>1</td>\n",
       "      <td>Personal</td>\n",
       "      <td>Preliminary</td>\n",
       "      <td>Non-Fatal</td>\n",
       "    </tr>\n",
       "    <tr>\n",
       "      <th>4</th>\n",
       "      <td>United States</td>\n",
       "      <td>Accident</td>\n",
       "      <td>Substantial</td>\n",
       "      <td>Airplane</td>\n",
       "      <td>No</td>\n",
       "      <td>1</td>\n",
       "      <td>Instructional</td>\n",
       "      <td>Preliminary</td>\n",
       "      <td>Non-Fatal</td>\n",
       "    </tr>\n",
       "  </tbody>\n",
       "</table>\n",
       "</div>"
      ],
      "text/plain": [
       "           Country        Type Aircraft Damage Aircraft Category  \\\n",
       "0   United States    Accident     Substantial          Airplane    \n",
       "1   United States    Accident     Substantial          Airplane    \n",
       "2   United States    Accident     Substantial          Airplane    \n",
       "3   United States    Accident     Substantial          Airplane    \n",
       "4   United States    Accident     Substantial          Airplane    \n",
       "\n",
       "  Amateur Built Number of Engines Purpose of Flight  Report Status  \\\n",
       "0          Yes                  1         Personal    Preliminary    \n",
       "1           No                  1    Instructional    Preliminary    \n",
       "2          Yes                  1         Personal    Preliminary    \n",
       "3           No                  1         Personal    Preliminary    \n",
       "4           No                  1    Instructional    Preliminary    \n",
       "\n",
       "  Injury Severity  \n",
       "0      Non-Fatal   \n",
       "1      Non-Fatal   \n",
       "2      Non-Fatal   \n",
       "3      Non-Fatal   \n",
       "4      Non-Fatal   "
      ]
     },
     "execution_count": 9,
     "metadata": {},
     "output_type": "execute_result"
    }
   ],
   "source": [
    "df_aviation = aviation_data[['Country', 'Type', 'Aircraft Damage', 'Aircraft Category', 'Amateur Built', 'Number of Engines', 'Purpose of Flight','Report Status','Injury Severity']]\n",
    "df_aviation.head()"
   ]
  },
  {
   "cell_type": "code",
   "execution_count": null,
   "metadata": {
    "collapsed": true
   },
   "outputs": [],
   "source": []
  },
  {
   "cell_type": "code",
   "execution_count": 10,
   "metadata": {
    "collapsed": true
   },
   "outputs": [],
   "source": [
    "writer = pd.ExcelWriter('./df.xlsx')"
   ]
  },
  {
   "cell_type": "code",
   "execution_count": 12,
   "metadata": {},
   "outputs": [],
   "source": [
    "df_aviation.to_excel(writer,\"df\")\n",
    "writer.save()"
   ]
  },
  {
   "cell_type": "code",
   "execution_count": null,
   "metadata": {
    "collapsed": true
   },
   "outputs": [],
   "source": [
    "country_mapping = {}"
   ]
  }
 ],
 "metadata": {
  "kernelspec": {
   "display_name": "Python 2",
   "language": "python",
   "name": "python2"
  },
  "language_info": {
   "codemirror_mode": {
    "name": "ipython",
    "version": 2
   },
   "file_extension": ".py",
   "mimetype": "text/x-python",
   "name": "python",
   "nbconvert_exporter": "python",
   "pygments_lexer": "ipython2",
   "version": "2.7.13"
  }
 },
 "nbformat": 4,
 "nbformat_minor": 2
}
